{
 "cells": [
  {
   "cell_type": "code",
   "execution_count": 1,
   "metadata": {},
   "outputs": [],
   "source": [
    "import pandas as pd"
   ]
  },
  {
   "cell_type": "code",
   "execution_count": 2,
   "metadata": {},
   "outputs": [
    {
     "data": {
      "text/html": [
       "<div>\n",
       "<style scoped>\n",
       "    .dataframe tbody tr th:only-of-type {\n",
       "        vertical-align: middle;\n",
       "    }\n",
       "\n",
       "    .dataframe tbody tr th {\n",
       "        vertical-align: top;\n",
       "    }\n",
       "\n",
       "    .dataframe thead th {\n",
       "        text-align: right;\n",
       "    }\n",
       "</style>\n",
       "<table border=\"1\" class=\"dataframe\">\n",
       "  <thead>\n",
       "    <tr style=\"text-align: right;\">\n",
       "      <th></th>\n",
       "      <th>CarName</th>\n",
       "      <th>Price</th>\n",
       "      <th>Year</th>\n",
       "      <th>KilometersDriven</th>\n",
       "      <th>Fuel Type</th>\n",
       "      <th>Location</th>\n",
       "    </tr>\n",
       "  </thead>\n",
       "  <tbody>\n",
       "    <tr>\n",
       "      <th>0</th>\n",
       "      <td>Mercedes-Benz C-Class</td>\n",
       "      <td>22,51,111</td>\n",
       "      <td>2015</td>\n",
       "      <td>62,000 km</td>\n",
       "      <td>Diesel</td>\n",
       "      <td>Bandra West</td>\n",
       "    </tr>\n",
       "    <tr>\n",
       "      <th>1</th>\n",
       "      <td>Mercedes-Benz E-Class</td>\n",
       "      <td>15,50,000</td>\n",
       "      <td>2014</td>\n",
       "      <td>72,000 km</td>\n",
       "      <td>Diesel</td>\n",
       "      <td>Bandra West</td>\n",
       "    </tr>\n",
       "    <tr>\n",
       "      <th>2</th>\n",
       "      <td>Audi Q7</td>\n",
       "      <td>39,99,999</td>\n",
       "      <td>2016</td>\n",
       "      <td>66,000 km</td>\n",
       "      <td>Diesel</td>\n",
       "      <td>Bandra West</td>\n",
       "    </tr>\n",
       "    <tr>\n",
       "      <th>3</th>\n",
       "      <td>Hyundai i10</td>\n",
       "      <td>2,99,000</td>\n",
       "      <td>2013</td>\n",
       "      <td>12,000 km</td>\n",
       "      <td>Petrol</td>\n",
       "      <td>Mahim</td>\n",
       "    </tr>\n",
       "    <tr>\n",
       "      <th>4</th>\n",
       "      <td>Kia Seltos</td>\n",
       "      <td>15,35,000</td>\n",
       "      <td>2019</td>\n",
       "      <td>47,425 km</td>\n",
       "      <td>Diesel</td>\n",
       "      <td>Chembur</td>\n",
       "    </tr>\n",
       "  </tbody>\n",
       "</table>\n",
       "</div>"
      ],
      "text/plain": [
       "                 CarName      Price  Year KilometersDriven Fuel Type  \\\n",
       "0  Mercedes-Benz C-Class  22,51,111  2015        62,000 km    Diesel   \n",
       "1  Mercedes-Benz E-Class  15,50,000  2014        72,000 km    Diesel   \n",
       "2                Audi Q7  39,99,999  2016        66,000 km    Diesel   \n",
       "3            Hyundai i10   2,99,000  2013        12,000 km    Petrol   \n",
       "4             Kia Seltos  15,35,000  2019        47,425 km    Diesel   \n",
       "\n",
       "      Location  \n",
       "0  Bandra West  \n",
       "1  Bandra West  \n",
       "2  Bandra West  \n",
       "3        Mahim  \n",
       "4      Chembur  "
      ]
     },
     "execution_count": 2,
     "metadata": {},
     "output_type": "execute_result"
    }
   ],
   "source": [
    "data = pd.read_csv(\"OLX/olx_mumbai.csv\")\n",
    "data.head()"
   ]
  },
  {
   "cell_type": "code",
   "execution_count": 3,
   "metadata": {},
   "outputs": [
    {
     "data": {
      "text/plain": [
       "Location\n",
       "Chembur                        127\n",
       "Bandra West                    108\n",
       "Vile Parle East                 35\n",
       "Kurla West                      26\n",
       "Santacruz West                  24\n",
       "Matunga Road                    23\n",
       "Santacruz East                  18\n",
       "Dadar East                      14\n",
       "Mahim                           11\n",
       "Bandra East                      9\n",
       "Sion West                        8\n",
       "Juhu Tara Road                   8\n",
       "Khar West                        8\n",
       "Vile Parle West                  7\n",
       "Sion East                        6\n",
       "Vidya Nagari                     5\n",
       "Vaibhav Nagar                    5\n",
       "Bandra Kurla Complex             5\n",
       "Kurla East                       3\n",
       "Wadala West                      3\n",
       "Dadar West                       2\n",
       "Tilak Nagar                      2\n",
       "Dharavi                          1\n",
       "Waterfield Road Bandra West      1\n",
       "Guru Teg Bahadur Nagar           1\n",
       "Kalina                           1\n",
       "Vaidya Nagar                     1\n",
       "Matunga East                     1\n",
       "Name: count, dtype: int64"
      ]
     },
     "execution_count": 3,
     "metadata": {},
     "output_type": "execute_result"
    }
   ],
   "source": [
    "data['Location'].value_counts()"
   ]
  },
  {
   "cell_type": "code",
   "execution_count": 4,
   "metadata": {},
   "outputs": [],
   "source": [
    "data['Location'] = data['Location'].apply(lambda x: x+ \", Mumbai\" if \"Mumbai\" not in x.split(\" \") else x)"
   ]
  },
  {
   "cell_type": "code",
   "execution_count": 5,
   "metadata": {},
   "outputs": [
    {
     "data": {
      "text/plain": [
       "Location\n",
       "Chembur, Mumbai                        127\n",
       "Bandra West, Mumbai                    108\n",
       "Vile Parle East, Mumbai                 35\n",
       "Kurla West, Mumbai                      26\n",
       "Santacruz West, Mumbai                  24\n",
       "Matunga Road, Mumbai                    23\n",
       "Santacruz East, Mumbai                  18\n",
       "Dadar East, Mumbai                      14\n",
       "Mahim, Mumbai                           11\n",
       "Bandra East, Mumbai                      9\n",
       "Sion West, Mumbai                        8\n",
       "Juhu Tara Road, Mumbai                   8\n",
       "Khar West, Mumbai                        8\n",
       "Vile Parle West, Mumbai                  7\n",
       "Sion East, Mumbai                        6\n",
       "Vidya Nagari, Mumbai                     5\n",
       "Vaibhav Nagar, Mumbai                    5\n",
       "Bandra Kurla Complex, Mumbai             5\n",
       "Kurla East, Mumbai                       3\n",
       "Wadala West, Mumbai                      3\n",
       "Dadar West, Mumbai                       2\n",
       "Tilak Nagar, Mumbai                      2\n",
       "Dharavi, Mumbai                          1\n",
       "Waterfield Road Bandra West, Mumbai      1\n",
       "Guru Teg Bahadur Nagar, Mumbai           1\n",
       "Kalina, Mumbai                           1\n",
       "Vaidya Nagar, Mumbai                     1\n",
       "Matunga East, Mumbai                     1\n",
       "Name: count, dtype: int64"
      ]
     },
     "execution_count": 5,
     "metadata": {},
     "output_type": "execute_result"
    }
   ],
   "source": [
    "data['Location'].value_counts()"
   ]
  },
  {
   "cell_type": "code",
   "execution_count": 7,
   "metadata": {},
   "outputs": [
    {
     "data": {
      "text/plain": [
       "Location\n",
       "Chembur, Mumbai                        127\n",
       "Bandra West, Mumbai                    108\n",
       "Vile Parle East, Mumbai                 35\n",
       "Kurla West, Mumbai                      26\n",
       "Santacruz West, Mumbai                  24\n",
       "Matunga Road, Mumbai                    23\n",
       "Santacruz East, Mumbai                  18\n",
       "Dadar East, Mumbai                      14\n",
       "Mahim, Mumbai                           11\n",
       "Bandra East, Mumbai                      9\n",
       "Sion West, Mumbai                        8\n",
       "Juhu Tara Road, Mumbai                   8\n",
       "Khar West, Mumbai                        8\n",
       "Vile Parle West, Mumbai                  7\n",
       "Sion East, Mumbai                        6\n",
       "Vidya Nagari, Mumbai                     5\n",
       "Vaibhav Nagar, Mumbai                    5\n",
       "Bandra Kurla Complex, Mumbai             5\n",
       "Kurla East, Mumbai                       3\n",
       "Wadala West, Mumbai                      3\n",
       "Dadar West, Mumbai                       2\n",
       "Tilak Nagar, Mumbai                      2\n",
       "Dharavi, Mumbai                          1\n",
       "Waterfield Road Bandra West, Mumbai      1\n",
       "Guru Teg Bahadur Nagar, Mumbai           1\n",
       "Kalina, Mumbai                           1\n",
       "Vaidya Nagar, Mumbai                     1\n",
       "Matunga East, Mumbai                     1\n",
       "Name: count, dtype: int64"
      ]
     },
     "execution_count": 7,
     "metadata": {},
     "output_type": "execute_result"
    }
   ],
   "source": [
    "data_with_mumbai = data[data['Location'].apply(lambda x: True if \"Mumbai\" in x.split(\" \") else False)]\n",
    "data_with_mumbai['Location'].value_counts()"
   ]
  },
  {
   "cell_type": "code",
   "execution_count": 8,
   "metadata": {},
   "outputs": [
    {
     "data": {
      "text/plain": [
       "463"
      ]
     },
     "execution_count": 8,
     "metadata": {},
     "output_type": "execute_result"
    }
   ],
   "source": [
    "data_with_mumbai['Location'].value_counts().sum()"
   ]
  },
  {
   "cell_type": "code",
   "execution_count": 10,
   "metadata": {},
   "outputs": [],
   "source": [
    "data.to_csv(\"OLX/corrected_data/olx_mumbai_corrected.csv\")"
   ]
  },
  {
   "cell_type": "code",
   "execution_count": 11,
   "metadata": {},
   "outputs": [
    {
     "data": {
      "text/html": [
       "<div>\n",
       "<style scoped>\n",
       "    .dataframe tbody tr th:only-of-type {\n",
       "        vertical-align: middle;\n",
       "    }\n",
       "\n",
       "    .dataframe tbody tr th {\n",
       "        vertical-align: top;\n",
       "    }\n",
       "\n",
       "    .dataframe thead th {\n",
       "        text-align: right;\n",
       "    }\n",
       "</style>\n",
       "<table border=\"1\" class=\"dataframe\">\n",
       "  <thead>\n",
       "    <tr style=\"text-align: right;\">\n",
       "      <th></th>\n",
       "      <th>CarName</th>\n",
       "      <th>Price</th>\n",
       "      <th>Year</th>\n",
       "      <th>KilometersDriven</th>\n",
       "      <th>Fuel Type</th>\n",
       "      <th>Location</th>\n",
       "    </tr>\n",
       "  </thead>\n",
       "  <tbody>\n",
       "    <tr>\n",
       "      <th>0</th>\n",
       "      <td>Audi A4</td>\n",
       "      <td>42,00,000</td>\n",
       "      <td>2022</td>\n",
       "      <td>13,000 km</td>\n",
       "      <td>Petrol</td>\n",
       "      <td>Venktagiri Nagar, Hyderabad</td>\n",
       "    </tr>\n",
       "    <tr>\n",
       "      <th>1</th>\n",
       "      <td>Hyundai i20</td>\n",
       "      <td>5,45,000</td>\n",
       "      <td>2015</td>\n",
       "      <td>76,000 km</td>\n",
       "      <td>Diesel</td>\n",
       "      <td>Begumpet, Secunderabad</td>\n",
       "    </tr>\n",
       "    <tr>\n",
       "      <th>2</th>\n",
       "      <td>Honda City</td>\n",
       "      <td>7,35,000</td>\n",
       "      <td>2017</td>\n",
       "      <td>53,789 km</td>\n",
       "      <td>Petrol</td>\n",
       "      <td>Madhapur, Hyderabad</td>\n",
       "    </tr>\n",
       "    <tr>\n",
       "      <th>3</th>\n",
       "      <td>Maruti Suzuki Alto-800</td>\n",
       "      <td>2,65,000</td>\n",
       "      <td>2015</td>\n",
       "      <td>55,000 km</td>\n",
       "      <td>Petrol</td>\n",
       "      <td>Balkampet, Hyderabad</td>\n",
       "    </tr>\n",
       "    <tr>\n",
       "      <th>4</th>\n",
       "      <td>Kia Seltos</td>\n",
       "      <td>9,90,000</td>\n",
       "      <td>2021</td>\n",
       "      <td>44,972 km</td>\n",
       "      <td>Petrol</td>\n",
       "      <td>Kukatpally, Hyderabad</td>\n",
       "    </tr>\n",
       "  </tbody>\n",
       "</table>\n",
       "</div>"
      ],
      "text/plain": [
       "                  CarName      Price  Year KilometersDriven Fuel Type  \\\n",
       "0                 Audi A4  42,00,000  2022        13,000 km    Petrol   \n",
       "1             Hyundai i20   5,45,000  2015        76,000 km    Diesel   \n",
       "2              Honda City   7,35,000  2017        53,789 km    Petrol   \n",
       "3  Maruti Suzuki Alto-800   2,65,000  2015        55,000 km    Petrol   \n",
       "4              Kia Seltos   9,90,000  2021        44,972 km    Petrol   \n",
       "\n",
       "                      Location  \n",
       "0  Venktagiri Nagar, Hyderabad  \n",
       "1       Begumpet, Secunderabad  \n",
       "2          Madhapur, Hyderabad  \n",
       "3         Balkampet, Hyderabad  \n",
       "4        Kukatpally, Hyderabad  "
      ]
     },
     "execution_count": 11,
     "metadata": {},
     "output_type": "execute_result"
    }
   ],
   "source": [
    "data = pd.read_csv(\"OLX/olx_hyderabad.csv\")\n",
    "data.head()"
   ]
  },
  {
   "cell_type": "code",
   "execution_count": 12,
   "metadata": {},
   "outputs": [
    {
     "data": {
      "text/plain": [
       "Location\n",
       "Madhapur, Hyderabad                120\n",
       "Balkampet, Hyderabad                81\n",
       "Kukatpally, Hyderabad               72\n",
       "Yousuf Guda, Hyderabad              25\n",
       "Ameerpet, Hyderabad                 22\n",
       "BK Guda, Hyderabad                  21\n",
       "Begumpet, Hyderabad                 20\n",
       "Venktagiri Nagar, Hyderabad         18\n",
       "Moosapet, Hyderabad                  8\n",
       "Qutbullapur, Hyderabad               6\n",
       "Panjagutta, Hyderabad                3\n",
       "Zahra Nagar, Hyderabad               3\n",
       "Mythri Nagar, Hyderabad              3\n",
       "Sanath Nagar, Hyderabad              3\n",
       "Bowenpally, Hyderabad                3\n",
       "Bala Nagar, Hyderabad                2\n",
       "Anjaneya Nagar, Hyderabad            1\n",
       "Sundar Nagar, Hyderabad              1\n",
       "Sanjeeva Reddy Nagar, Hyderabad      1\n",
       "South Park, Hyderabad                1\n",
       "Rajarajeshwari Nagar, Hyderabad      1\n",
       "Chandra Nagar, Hyderabad             1\n",
       "Somajiguda, Hyderabad                1\n",
       "Alwal, Hyderabad                     1\n",
       "Rasoolpura, Hyderabad                1\n",
       "Name: count, dtype: int64"
      ]
     },
     "execution_count": 12,
     "metadata": {},
     "output_type": "execute_result"
    }
   ],
   "source": [
    "data_with_hyderabad = data[data['Location'].apply(lambda x: True if \"Hyderabad\" in x.split(\" \") else False)]\n",
    "data_with_hyderabad['Location'].value_counts()"
   ]
  },
  {
   "cell_type": "code",
   "execution_count": 13,
   "metadata": {},
   "outputs": [
    {
     "data": {
      "text/plain": [
       "419"
      ]
     },
     "execution_count": 13,
     "metadata": {},
     "output_type": "execute_result"
    }
   ],
   "source": [
    "data_with_hyderabad['Location'].value_counts().sum()"
   ]
  },
  {
   "cell_type": "code",
   "execution_count": 14,
   "metadata": {},
   "outputs": [],
   "source": [
    "data['Location'] = data['Location'].apply(lambda x: x+\", Hyderabad\" if \"Hyderabad\" not in x else x)"
   ]
  },
  {
   "cell_type": "code",
   "execution_count": 16,
   "metadata": {},
   "outputs": [
    {
     "data": {
      "text/plain": [
       "451"
      ]
     },
     "execution_count": 16,
     "metadata": {},
     "output_type": "execute_result"
    }
   ],
   "source": [
    "data_with_hyderabad = data[data['Location'].apply(lambda x: True if \"Hyderabad\" in x.split(\" \") else False)]\n",
    "data_with_hyderabad['Location'].value_counts().sum()"
   ]
  },
  {
   "cell_type": "code",
   "execution_count": 17,
   "metadata": {},
   "outputs": [],
   "source": [
    "data.to_csv(\"OLX/corrected_data/olx_hyderabad_corrected.csv\")"
   ]
  },
  {
   "cell_type": "code",
   "execution_count": 18,
   "metadata": {},
   "outputs": [
    {
     "data": {
      "text/html": [
       "<div>\n",
       "<style scoped>\n",
       "    .dataframe tbody tr th:only-of-type {\n",
       "        vertical-align: middle;\n",
       "    }\n",
       "\n",
       "    .dataframe tbody tr th {\n",
       "        vertical-align: top;\n",
       "    }\n",
       "\n",
       "    .dataframe thead th {\n",
       "        text-align: right;\n",
       "    }\n",
       "</style>\n",
       "<table border=\"1\" class=\"dataframe\">\n",
       "  <thead>\n",
       "    <tr style=\"text-align: right;\">\n",
       "      <th></th>\n",
       "      <th>CarName</th>\n",
       "      <th>Price</th>\n",
       "      <th>Year</th>\n",
       "      <th>KilometersDriven</th>\n",
       "      <th>Fuel Type</th>\n",
       "      <th>Location</th>\n",
       "    </tr>\n",
       "  </thead>\n",
       "  <tbody>\n",
       "    <tr>\n",
       "      <th>0</th>\n",
       "      <td>Maruti Suzuki Baleno</td>\n",
       "      <td>7,90,000</td>\n",
       "      <td>2021</td>\n",
       "      <td>15,000 km</td>\n",
       "      <td>Petrol</td>\n",
       "      <td>Pune Vidyapith, Pune</td>\n",
       "    </tr>\n",
       "    <tr>\n",
       "      <th>1</th>\n",
       "      <td>Nissan Micra</td>\n",
       "      <td>2,77,000</td>\n",
       "      <td>2012</td>\n",
       "      <td>87,000 km</td>\n",
       "      <td>Diesel</td>\n",
       "      <td>Pune Cantonment, Pune</td>\n",
       "    </tr>\n",
       "    <tr>\n",
       "      <th>2</th>\n",
       "      <td>Audi A6</td>\n",
       "      <td>12,99,000</td>\n",
       "      <td>2014</td>\n",
       "      <td>98,000 km</td>\n",
       "      <td>Diesel</td>\n",
       "      <td>Pune Vidyapith, Pune</td>\n",
       "    </tr>\n",
       "    <tr>\n",
       "      <th>3</th>\n",
       "      <td>Maruti Suzuki Wagon-R-1-0</td>\n",
       "      <td>3,35,000</td>\n",
       "      <td>2013</td>\n",
       "      <td>78,000 km</td>\n",
       "      <td>CNG &amp; Hybrids</td>\n",
       "      <td>Gultekadi, Pune</td>\n",
       "    </tr>\n",
       "    <tr>\n",
       "      <th>4</th>\n",
       "      <td>Kia Sonet</td>\n",
       "      <td>11,25,000</td>\n",
       "      <td>2021</td>\n",
       "      <td>25,000 km</td>\n",
       "      <td>Diesel</td>\n",
       "      <td>Shivaji Nagar, Pune</td>\n",
       "    </tr>\n",
       "  </tbody>\n",
       "</table>\n",
       "</div>"
      ],
      "text/plain": [
       "                     CarName      Price  Year KilometersDriven      Fuel Type  \\\n",
       "0       Maruti Suzuki Baleno   7,90,000  2021        15,000 km         Petrol   \n",
       "1               Nissan Micra   2,77,000  2012        87,000 km         Diesel   \n",
       "2                    Audi A6  12,99,000  2014        98,000 km         Diesel   \n",
       "3  Maruti Suzuki Wagon-R-1-0   3,35,000  2013        78,000 km  CNG & Hybrids   \n",
       "4                  Kia Sonet  11,25,000  2021        25,000 km         Diesel   \n",
       "\n",
       "                Location  \n",
       "0   Pune Vidyapith, Pune  \n",
       "1  Pune Cantonment, Pune  \n",
       "2   Pune Vidyapith, Pune  \n",
       "3        Gultekadi, Pune  \n",
       "4    Shivaji Nagar, Pune  "
      ]
     },
     "execution_count": 18,
     "metadata": {},
     "output_type": "execute_result"
    }
   ],
   "source": [
    "data = pd.read_csv(\"OLX/olx_pune.csv\")\n",
    "data.head()"
   ]
  },
  {
   "cell_type": "code",
   "execution_count": 19,
   "metadata": {},
   "outputs": [
    {
     "data": {
      "text/plain": [
       "Location\n",
       "Swargate, Pune                       81\n",
       "Shivaji Nagar, Pune                  73\n",
       "Pune Vidyapith, Pune                 64\n",
       "Koregaon park, Pune                  47\n",
       "Khadki, Pune                         21\n",
       "Vishrant Wadi, Pune                  18\n",
       "Pune Cantonment, Pune                17\n",
       "Central Street Camp, Pune            16\n",
       "Walvekar Nagar, Pune                 14\n",
       "Modi Colony, Pune                    13\n",
       "Sadashiv Peth, Pune                  11\n",
       "Ganesh Nagar, Pune                    9\n",
       "Swatantrya Sainik Nagar, Pune         8\n",
       "Wakadewadi, Pune                      8\n",
       "Sopan Baug, Pune                      7\n",
       "Law College, Pune                     7\n",
       "Model Colony, Pune                    6\n",
       "MG Road, Pune                         4\n",
       "Mangalwar Peth, Pune                  4\n",
       "Prabhat Road, Pune                    3\n",
       "Gultekadi, Pune                       3\n",
       "Chatushrungi Temple, Pune             3\n",
       "East Street Road, Pune                2\n",
       "Phule Nagar, Pune                     1\n",
       "Bopodi, Pune                          1\n",
       "Parvati, Pune                         1\n",
       "Khadki Jai Jawan Nagar, Pune          1\n",
       "Deccan Gymkhana, Pune                 1\n",
       "Narayan Peth, Pune                    1\n",
       "Cantonment Residential Area, Pune     1\n",
       "Rasta Peth, Pune                      1\n",
       "Bhawani Peth, Pune                    1\n",
       "Sangamwadi, Pune                      1\n",
       "Shastri Nagar, Pune                   1\n",
       "Name: count, dtype: int64"
      ]
     },
     "execution_count": 19,
     "metadata": {},
     "output_type": "execute_result"
    }
   ],
   "source": [
    "data['Location'].value_counts()"
   ]
  },
  {
   "cell_type": "code",
   "execution_count": 25,
   "metadata": {},
   "outputs": [
    {
     "data": {
      "text/html": [
       "<div>\n",
       "<style scoped>\n",
       "    .dataframe tbody tr th:only-of-type {\n",
       "        vertical-align: middle;\n",
       "    }\n",
       "\n",
       "    .dataframe tbody tr th {\n",
       "        vertical-align: top;\n",
       "    }\n",
       "\n",
       "    .dataframe thead th {\n",
       "        text-align: right;\n",
       "    }\n",
       "</style>\n",
       "<table border=\"1\" class=\"dataframe\">\n",
       "  <thead>\n",
       "    <tr style=\"text-align: right;\">\n",
       "      <th></th>\n",
       "      <th>CarName</th>\n",
       "      <th>Price</th>\n",
       "      <th>Year</th>\n",
       "      <th>KilometersDriven</th>\n",
       "      <th>Fuel Type</th>\n",
       "      <th>Location</th>\n",
       "    </tr>\n",
       "  </thead>\n",
       "  <tbody>\n",
       "    <tr>\n",
       "      <th>0</th>\n",
       "      <td>Maruti Suzuki Baleno</td>\n",
       "      <td>7,90,000</td>\n",
       "      <td>2021</td>\n",
       "      <td>15,000 km</td>\n",
       "      <td>Petrol</td>\n",
       "      <td>Pune Vidyapith, Pune</td>\n",
       "    </tr>\n",
       "    <tr>\n",
       "      <th>1</th>\n",
       "      <td>Nissan Micra</td>\n",
       "      <td>2,77,000</td>\n",
       "      <td>2012</td>\n",
       "      <td>87,000 km</td>\n",
       "      <td>Diesel</td>\n",
       "      <td>Pune Cantonment, Pune</td>\n",
       "    </tr>\n",
       "    <tr>\n",
       "      <th>2</th>\n",
       "      <td>Audi A6</td>\n",
       "      <td>12,99,000</td>\n",
       "      <td>2014</td>\n",
       "      <td>98,000 km</td>\n",
       "      <td>Diesel</td>\n",
       "      <td>Pune Vidyapith, Pune</td>\n",
       "    </tr>\n",
       "    <tr>\n",
       "      <th>3</th>\n",
       "      <td>Maruti Suzuki Wagon-R-1-0</td>\n",
       "      <td>3,35,000</td>\n",
       "      <td>2013</td>\n",
       "      <td>78,000 km</td>\n",
       "      <td>CNG &amp; Hybrids</td>\n",
       "      <td>Gultekadi, Pune</td>\n",
       "    </tr>\n",
       "    <tr>\n",
       "      <th>4</th>\n",
       "      <td>Kia Sonet</td>\n",
       "      <td>11,25,000</td>\n",
       "      <td>2021</td>\n",
       "      <td>25,000 km</td>\n",
       "      <td>Diesel</td>\n",
       "      <td>Shivaji Nagar, Pune</td>\n",
       "    </tr>\n",
       "    <tr>\n",
       "      <th>...</th>\n",
       "      <td>...</td>\n",
       "      <td>...</td>\n",
       "      <td>...</td>\n",
       "      <td>...</td>\n",
       "      <td>...</td>\n",
       "      <td>...</td>\n",
       "    </tr>\n",
       "    <tr>\n",
       "      <th>445</th>\n",
       "      <td>Hyundai Creta</td>\n",
       "      <td>11,80,000</td>\n",
       "      <td>2018</td>\n",
       "      <td>58,000 km</td>\n",
       "      <td>Petrol</td>\n",
       "      <td>Swargate, Pune</td>\n",
       "    </tr>\n",
       "    <tr>\n",
       "      <th>446</th>\n",
       "      <td>Mercedes-Benz C-Class</td>\n",
       "      <td>12,75,000</td>\n",
       "      <td>2013</td>\n",
       "      <td>75,430 km</td>\n",
       "      <td>Diesel</td>\n",
       "      <td>Law College, Pune</td>\n",
       "    </tr>\n",
       "    <tr>\n",
       "      <th>447</th>\n",
       "      <td>Honda City</td>\n",
       "      <td>3,40,000</td>\n",
       "      <td>2010</td>\n",
       "      <td>99,400 km</td>\n",
       "      <td>CNG &amp; Hybrids</td>\n",
       "      <td>Pune Vidyapith, Pune</td>\n",
       "    </tr>\n",
       "    <tr>\n",
       "      <th>448</th>\n",
       "      <td>Tata Nano</td>\n",
       "      <td>88,000</td>\n",
       "      <td>2011</td>\n",
       "      <td>29,900 km</td>\n",
       "      <td>Petrol</td>\n",
       "      <td>Pune Vidyapith, Pune</td>\n",
       "    </tr>\n",
       "    <tr>\n",
       "      <th>449</th>\n",
       "      <td>Hyundai Elite i20</td>\n",
       "      <td>5,55,000</td>\n",
       "      <td>2016</td>\n",
       "      <td>19,000 km</td>\n",
       "      <td>Petrol</td>\n",
       "      <td>Sadashiv Peth, Pune</td>\n",
       "    </tr>\n",
       "  </tbody>\n",
       "</table>\n",
       "<p>450 rows × 6 columns</p>\n",
       "</div>"
      ],
      "text/plain": [
       "                       CarName      Price  Year KilometersDriven  \\\n",
       "0         Maruti Suzuki Baleno   7,90,000  2021        15,000 km   \n",
       "1                 Nissan Micra   2,77,000  2012        87,000 km   \n",
       "2                      Audi A6  12,99,000  2014        98,000 km   \n",
       "3    Maruti Suzuki Wagon-R-1-0   3,35,000  2013        78,000 km   \n",
       "4                    Kia Sonet  11,25,000  2021        25,000 km   \n",
       "..                         ...        ...   ...              ...   \n",
       "445              Hyundai Creta  11,80,000  2018        58,000 km   \n",
       "446      Mercedes-Benz C-Class  12,75,000  2013        75,430 km   \n",
       "447                 Honda City   3,40,000  2010        99,400 km   \n",
       "448                  Tata Nano     88,000  2011        29,900 km   \n",
       "449          Hyundai Elite i20   5,55,000  2016        19,000 km   \n",
       "\n",
       "         Fuel Type               Location  \n",
       "0           Petrol   Pune Vidyapith, Pune  \n",
       "1           Diesel  Pune Cantonment, Pune  \n",
       "2           Diesel   Pune Vidyapith, Pune  \n",
       "3    CNG & Hybrids        Gultekadi, Pune  \n",
       "4           Diesel    Shivaji Nagar, Pune  \n",
       "..             ...                    ...  \n",
       "445         Petrol         Swargate, Pune  \n",
       "446         Diesel      Law College, Pune  \n",
       "447  CNG & Hybrids   Pune Vidyapith, Pune  \n",
       "448         Petrol   Pune Vidyapith, Pune  \n",
       "449         Petrol    Sadashiv Peth, Pune  \n",
       "\n",
       "[450 rows x 6 columns]"
      ]
     },
     "execution_count": 25,
     "metadata": {},
     "output_type": "execute_result"
    }
   ],
   "source": [
    "data[data['Location'].apply(lambda x: True if \"Pune\" in x.split(\" \")[::-1] else x)]"
   ]
  },
  {
   "cell_type": "code",
   "execution_count": null,
   "metadata": {},
   "outputs": [],
   "source": [
    "# in pune there is pune cantonment and pune vidyapith which come before the actual location pune thats why we are reversing the list then checking"
   ]
  }
 ],
 "metadata": {
  "kernelspec": {
   "display_name": "Python 3",
   "language": "python",
   "name": "python3"
  },
  "language_info": {
   "codemirror_mode": {
    "name": "ipython",
    "version": 3
   },
   "file_extension": ".py",
   "mimetype": "text/x-python",
   "name": "python",
   "nbconvert_exporter": "python",
   "pygments_lexer": "ipython3",
   "version": "3.11.5"
  }
 },
 "nbformat": 4,
 "nbformat_minor": 2
}
