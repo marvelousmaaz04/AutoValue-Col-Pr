{
 "cells": [
  {
   "cell_type": "code",
   "execution_count": 1,
   "metadata": {},
   "outputs": [],
   "source": [
    "import pandas as pd"
   ]
  },
  {
   "cell_type": "code",
   "execution_count": 2,
   "metadata": {},
   "outputs": [
    {
     "data": {
      "text/html": [
       "<div>\n",
       "<style scoped>\n",
       "    .dataframe tbody tr th:only-of-type {\n",
       "        vertical-align: middle;\n",
       "    }\n",
       "\n",
       "    .dataframe tbody tr th {\n",
       "        vertical-align: top;\n",
       "    }\n",
       "\n",
       "    .dataframe thead th {\n",
       "        text-align: right;\n",
       "    }\n",
       "</style>\n",
       "<table border=\"1\" class=\"dataframe\">\n",
       "  <thead>\n",
       "    <tr style=\"text-align: right;\">\n",
       "      <th></th>\n",
       "      <th>CarName</th>\n",
       "      <th>Price</th>\n",
       "      <th>Year</th>\n",
       "      <th>KilometersDriven</th>\n",
       "      <th>Fuel Type</th>\n",
       "      <th>Location</th>\n",
       "    </tr>\n",
       "  </thead>\n",
       "  <tbody>\n",
       "    <tr>\n",
       "      <th>0</th>\n",
       "      <td>Hyundai Grand i10 Nios Era 1.2 Kappa VTVT</td>\n",
       "      <td>5.48 Lakh</td>\n",
       "      <td>2021</td>\n",
       "      <td>23K km</td>\n",
       "      <td>Petrol</td>\n",
       "      <td>Spinny Hub, Kohinoor Square Mall, Dadar, Mumbai</td>\n",
       "    </tr>\n",
       "    <tr>\n",
       "      <th>1</th>\n",
       "      <td>Honda Amaze 1.2 VX CVT i-VTEC</td>\n",
       "      <td>8.82 Lakh</td>\n",
       "      <td>2022</td>\n",
       "      <td>6K km</td>\n",
       "      <td>Petrol</td>\n",
       "      <td>Spinny Hub, Neelkanth Business Park, Vidyaviha...</td>\n",
       "    </tr>\n",
       "    <tr>\n",
       "      <th>2</th>\n",
       "      <td>Tata Altroz XM Plus 1.2</td>\n",
       "      <td>6.58 Lakh</td>\n",
       "      <td>2021</td>\n",
       "      <td>23K km</td>\n",
       "      <td>Petrol</td>\n",
       "      <td>Spinny Hub, Neelkanth Business Park, Vidyaviha...</td>\n",
       "    </tr>\n",
       "    <tr>\n",
       "      <th>3</th>\n",
       "      <td>Tata Punch Adventure Rhythm Pack MT</td>\n",
       "      <td>6.78 Lakh</td>\n",
       "      <td>2022</td>\n",
       "      <td>10K km</td>\n",
       "      <td>Petrol</td>\n",
       "      <td>Spinny Hub, Neelkanth Business Park, Vidyaviha...</td>\n",
       "    </tr>\n",
       "    <tr>\n",
       "      <th>4</th>\n",
       "      <td>Renault Triber RXT</td>\n",
       "      <td>6.63 Lakh</td>\n",
       "      <td>2022</td>\n",
       "      <td>7K km</td>\n",
       "      <td>Petrol</td>\n",
       "      <td>Spinny Hub, Neelkanth Business Park, Vidyaviha...</td>\n",
       "    </tr>\n",
       "  </tbody>\n",
       "</table>\n",
       "</div>"
      ],
      "text/plain": [
       "                                     CarName      Price  Year  \\\n",
       "0  Hyundai Grand i10 Nios Era 1.2 Kappa VTVT  5.48 Lakh  2021   \n",
       "1              Honda Amaze 1.2 VX CVT i-VTEC  8.82 Lakh  2022   \n",
       "2                    Tata Altroz XM Plus 1.2  6.58 Lakh  2021   \n",
       "3        Tata Punch Adventure Rhythm Pack MT  6.78 Lakh  2022   \n",
       "4                         Renault Triber RXT  6.63 Lakh  2022   \n",
       "\n",
       "  KilometersDriven Fuel Type  \\\n",
       "0           23K km    Petrol   \n",
       "1            6K km    Petrol   \n",
       "2           23K km    Petrol   \n",
       "3           10K km    Petrol   \n",
       "4            7K km    Petrol   \n",
       "\n",
       "                                            Location  \n",
       "0    Spinny Hub, Kohinoor Square Mall, Dadar, Mumbai  \n",
       "1  Spinny Hub, Neelkanth Business Park, Vidyaviha...  \n",
       "2  Spinny Hub, Neelkanth Business Park, Vidyaviha...  \n",
       "3  Spinny Hub, Neelkanth Business Park, Vidyaviha...  \n",
       "4  Spinny Hub, Neelkanth Business Park, Vidyaviha...  "
      ]
     },
     "execution_count": 2,
     "metadata": {},
     "output_type": "execute_result"
    }
   ],
   "source": [
    "data = pd.read_csv(\"Spinny/spinny_mumbai.csv\")\n",
    "data.head()"
   ]
  },
  {
   "cell_type": "code",
   "execution_count": 3,
   "metadata": {},
   "outputs": [
    {
     "data": {
      "text/plain": [
       "Location\n",
       "Spinny Hub, Kohinoor Square Mall, Dadar, Mumbai            134\n",
       "Spinny Hub, Neelkanth Business Park, Vidyavihar, Mumbai    128\n",
       "Spinny Hub, Seawoods, Navi Mumbai                          121\n",
       "Name: count, dtype: int64"
      ]
     },
     "execution_count": 3,
     "metadata": {},
     "output_type": "execute_result"
    }
   ],
   "source": [
    "data_with_mumbai = data[data['Location'].apply(lambda x: True if \"Mumbai\" in x.split(\" \") else False)]\n",
    "data_with_mumbai['Location'].value_counts()"
   ]
  },
  {
   "cell_type": "code",
   "execution_count": 4,
   "metadata": {},
   "outputs": [
    {
     "data": {
      "text/plain": [
       "383"
      ]
     },
     "execution_count": 4,
     "metadata": {},
     "output_type": "execute_result"
    }
   ],
   "source": [
    "data_with_mumbai['Location'].value_counts().sum()"
   ]
  },
  {
   "cell_type": "code",
   "execution_count": 5,
   "metadata": {},
   "outputs": [
    {
     "data": {
      "text/plain": [
       "Location\n",
       "Spinny Hub, Korum Mall, Thane    126\n",
       "Name: count, dtype: int64"
      ]
     },
     "execution_count": 5,
     "metadata": {},
     "output_type": "execute_result"
    }
   ],
   "source": [
    "data_without_mumbai = data[data['Location'].apply(lambda x: True if \"Mumbai\" not in x.split(\" \") else False)]\n",
    "data_without_mumbai['Location'].value_counts()"
   ]
  },
  {
   "cell_type": "code",
   "execution_count": 6,
   "metadata": {},
   "outputs": [
    {
     "data": {
      "text/plain": [
       "126"
      ]
     },
     "execution_count": 6,
     "metadata": {},
     "output_type": "execute_result"
    }
   ],
   "source": [
    "data_without_mumbai['Location'].value_counts().sum()"
   ]
  },
  {
   "cell_type": "code",
   "execution_count": 7,
   "metadata": {},
   "outputs": [],
   "source": [
    "data['Location'] = data['Location'].apply(lambda x: x+\", Mumbai\" if \"Mumbai\" not in x else x)"
   ]
  },
  {
   "cell_type": "code",
   "execution_count": 8,
   "metadata": {},
   "outputs": [
    {
     "data": {
      "text/plain": [
       "Series([], Name: count, dtype: int64)"
      ]
     },
     "execution_count": 8,
     "metadata": {},
     "output_type": "execute_result"
    }
   ],
   "source": [
    "data_without_mumbai = data[data['Location'].apply(lambda x: True if \"Mumbai\" not in x.split(\" \") else False)]\n",
    "data_without_mumbai['Location'].value_counts()"
   ]
  },
  {
   "cell_type": "code",
   "execution_count": 9,
   "metadata": {},
   "outputs": [
    {
     "data": {
      "text/plain": [
       "0"
      ]
     },
     "execution_count": 9,
     "metadata": {},
     "output_type": "execute_result"
    }
   ],
   "source": [
    "data_without_mumbai['Location'].value_counts().sum()"
   ]
  },
  {
   "cell_type": "code",
   "execution_count": 10,
   "metadata": {},
   "outputs": [
    {
     "data": {
      "text/plain": [
       "Location\n",
       "Spinny Hub, Kohinoor Square Mall, Dadar, Mumbai            134\n",
       "Spinny Hub, Neelkanth Business Park, Vidyavihar, Mumbai    128\n",
       "Spinny Hub, Korum Mall, Thane, Mumbai                      126\n",
       "Spinny Hub, Seawoods, Navi Mumbai                          121\n",
       "Name: count, dtype: int64"
      ]
     },
     "execution_count": 10,
     "metadata": {},
     "output_type": "execute_result"
    }
   ],
   "source": [
    "data_with_mumbai = data[data['Location'].apply(lambda x: True if \"Mumbai\" in x.split(\" \") else False)]\n",
    "data_with_mumbai['Location'].value_counts()"
   ]
  },
  {
   "cell_type": "code",
   "execution_count": 11,
   "metadata": {},
   "outputs": [
    {
     "data": {
      "text/plain": [
       "509"
      ]
     },
     "execution_count": 11,
     "metadata": {},
     "output_type": "execute_result"
    }
   ],
   "source": [
    "data_with_mumbai['Location'].value_counts().sum()"
   ]
  },
  {
   "cell_type": "code",
   "execution_count": 12,
   "metadata": {},
   "outputs": [],
   "source": [
    "data.to_csv(\"Spinny/corrected_data/spinny_mumbai_corrected.csv\")"
   ]
  },
  {
   "cell_type": "code",
   "execution_count": 13,
   "metadata": {},
   "outputs": [
    {
     "data": {
      "text/html": [
       "<div>\n",
       "<style scoped>\n",
       "    .dataframe tbody tr th:only-of-type {\n",
       "        vertical-align: middle;\n",
       "    }\n",
       "\n",
       "    .dataframe tbody tr th {\n",
       "        vertical-align: top;\n",
       "    }\n",
       "\n",
       "    .dataframe thead th {\n",
       "        text-align: right;\n",
       "    }\n",
       "</style>\n",
       "<table border=\"1\" class=\"dataframe\">\n",
       "  <thead>\n",
       "    <tr style=\"text-align: right;\">\n",
       "      <th></th>\n",
       "      <th>CarName</th>\n",
       "      <th>Price</th>\n",
       "      <th>Year</th>\n",
       "      <th>KilometersDriven</th>\n",
       "      <th>Fuel Type</th>\n",
       "      <th>Location</th>\n",
       "    </tr>\n",
       "  </thead>\n",
       "  <tbody>\n",
       "    <tr>\n",
       "      <th>0</th>\n",
       "      <td>Maruti Suzuki Baleno Alpha Petrol</td>\n",
       "      <td>5.76 Lakh</td>\n",
       "      <td>2016</td>\n",
       "      <td>46K km</td>\n",
       "      <td>Petrol</td>\n",
       "      <td>Spinny Hub, Rcube Monad Mall, Rajouri</td>\n",
       "    </tr>\n",
       "    <tr>\n",
       "      <th>1</th>\n",
       "      <td>Maruti Suzuki Baleno Delta Petrol</td>\n",
       "      <td>6.53 Lakh</td>\n",
       "      <td>2021</td>\n",
       "      <td>26K km</td>\n",
       "      <td>Petrol</td>\n",
       "      <td>Spinny Hub, Rcube Monad Mall, Rajouri</td>\n",
       "    </tr>\n",
       "    <tr>\n",
       "      <th>2</th>\n",
       "      <td>Hyundai i10 Magna 1.2 Petrol</td>\n",
       "      <td>2.39 Lakh</td>\n",
       "      <td>2012</td>\n",
       "      <td>46K km</td>\n",
       "      <td>Petrol</td>\n",
       "      <td>Spinny Hub, Rcube Monad Mall, Rajouri</td>\n",
       "    </tr>\n",
       "    <tr>\n",
       "      <th>3</th>\n",
       "      <td>Maruti Suzuki Celerio ZXI</td>\n",
       "      <td>3.32 Lakh</td>\n",
       "      <td>2015</td>\n",
       "      <td>76K km</td>\n",
       "      <td>Petrol</td>\n",
       "      <td>Spinny Hub, Taj Vivanta, Dwarka, Delhi</td>\n",
       "    </tr>\n",
       "    <tr>\n",
       "      <th>4</th>\n",
       "      <td>Hyundai Grand i10 Sportz (O) 1.2 kappa VTVT</td>\n",
       "      <td>4.63 Lakh</td>\n",
       "      <td>2017</td>\n",
       "      <td>72K km</td>\n",
       "      <td>Petrol</td>\n",
       "      <td>Spinny Hub, Rcube Monad Mall, Rajouri</td>\n",
       "    </tr>\n",
       "  </tbody>\n",
       "</table>\n",
       "</div>"
      ],
      "text/plain": [
       "                                       CarName      Price  Year  \\\n",
       "0            Maruti Suzuki Baleno Alpha Petrol  5.76 Lakh  2016   \n",
       "1            Maruti Suzuki Baleno Delta Petrol  6.53 Lakh  2021   \n",
       "2                 Hyundai i10 Magna 1.2 Petrol  2.39 Lakh  2012   \n",
       "3                    Maruti Suzuki Celerio ZXI  3.32 Lakh  2015   \n",
       "4  Hyundai Grand i10 Sportz (O) 1.2 kappa VTVT  4.63 Lakh  2017   \n",
       "\n",
       "  KilometersDriven Fuel Type                                Location  \n",
       "0           46K km    Petrol   Spinny Hub, Rcube Monad Mall, Rajouri  \n",
       "1           26K km    Petrol   Spinny Hub, Rcube Monad Mall, Rajouri  \n",
       "2           46K km    Petrol   Spinny Hub, Rcube Monad Mall, Rajouri  \n",
       "3           76K km    Petrol  Spinny Hub, Taj Vivanta, Dwarka, Delhi  \n",
       "4           72K km    Petrol   Spinny Hub, Rcube Monad Mall, Rajouri  "
      ]
     },
     "execution_count": 13,
     "metadata": {},
     "output_type": "execute_result"
    }
   ],
   "source": [
    "data = pd.read_csv(\"Spinny/spinny_delhi.csv\")\n",
    "data.head()"
   ]
  },
  {
   "cell_type": "code",
   "execution_count": 14,
   "metadata": {},
   "outputs": [
    {
     "data": {
      "text/plain": [
       "Location\n",
       "Spinny Hub, Taj Vivanta, Dwarka, Delhi    256\n",
       "Spinny Hub, Rcube Monad Mall, Rajouri     221\n",
       "Max Hub @ Trillium Avenue, Gurgaon         26\n",
       "Name: count, dtype: int64"
      ]
     },
     "execution_count": 14,
     "metadata": {},
     "output_type": "execute_result"
    }
   ],
   "source": [
    "data['Location'].value_counts()"
   ]
  },
  {
   "cell_type": "code",
   "execution_count": 15,
   "metadata": {},
   "outputs": [
    {
     "data": {
      "text/plain": [
       "Location\n",
       "Spinny Hub, Rcube Monad Mall, Rajouri    221\n",
       "Max Hub @ Trillium Avenue, Gurgaon        26\n",
       "Name: count, dtype: int64"
      ]
     },
     "execution_count": 15,
     "metadata": {},
     "output_type": "execute_result"
    }
   ],
   "source": [
    "data_without_delhi = data[data['Location'].apply(lambda x: True if \"Delhi\" not in x.split(\" \") else False)]\n",
    "data_without_delhi['Location'].value_counts()"
   ]
  },
  {
   "cell_type": "code",
   "execution_count": 16,
   "metadata": {},
   "outputs": [
    {
     "data": {
      "text/plain": [
       "247"
      ]
     },
     "execution_count": 16,
     "metadata": {},
     "output_type": "execute_result"
    }
   ],
   "source": [
    "data_without_delhi['Location'].value_counts().sum()"
   ]
  },
  {
   "cell_type": "code",
   "execution_count": 17,
   "metadata": {},
   "outputs": [
    {
     "data": {
      "text/plain": [
       "Location\n",
       "Spinny Hub, Taj Vivanta, Dwarka, Delhi    256\n",
       "Name: count, dtype: int64"
      ]
     },
     "execution_count": 17,
     "metadata": {},
     "output_type": "execute_result"
    }
   ],
   "source": [
    "data_with_delhi = data[data['Location'].apply(lambda x: True if \"Delhi\" in x.split(\" \") else False)]\n",
    "data_with_delhi['Location'].value_counts()"
   ]
  },
  {
   "cell_type": "code",
   "execution_count": 19,
   "metadata": {},
   "outputs": [
    {
     "data": {
      "text/plain": [
       "256"
      ]
     },
     "execution_count": 19,
     "metadata": {},
     "output_type": "execute_result"
    }
   ],
   "source": [
    "data_with_delhi['Location'].value_counts().sum()"
   ]
  },
  {
   "cell_type": "code",
   "execution_count": 20,
   "metadata": {},
   "outputs": [],
   "source": [
    "data['Location'] = data['Location'].apply(lambda x: x+\", Delhi\" if\"Delhi\" not in x.split(\" \") else x )"
   ]
  },
  {
   "cell_type": "code",
   "execution_count": 21,
   "metadata": {},
   "outputs": [
    {
     "data": {
      "text/plain": [
       "Location\n",
       "Spinny Hub, Taj Vivanta, Dwarka, Delhi          256\n",
       "Spinny Hub, Rcube Monad Mall, Rajouri, Delhi    221\n",
       "Max Hub @ Trillium Avenue, Gurgaon, Delhi        26\n",
       "Name: count, dtype: int64"
      ]
     },
     "execution_count": 21,
     "metadata": {},
     "output_type": "execute_result"
    }
   ],
   "source": [
    "data_with_delhi = data[data['Location'].apply(lambda x: True if \"Delhi\" in x.split(\" \") else False)]\n",
    "data_with_delhi['Location'].value_counts()"
   ]
  },
  {
   "cell_type": "code",
   "execution_count": 22,
   "metadata": {},
   "outputs": [
    {
     "data": {
      "text/plain": [
       "503"
      ]
     },
     "execution_count": 22,
     "metadata": {},
     "output_type": "execute_result"
    }
   ],
   "source": [
    "data_with_delhi['Location'].value_counts().sum()"
   ]
  },
  {
   "cell_type": "code",
   "execution_count": 23,
   "metadata": {},
   "outputs": [],
   "source": [
    "data.to_csv(\"Spinny/corrected_data/spinny_delhi_corrected.csv\")"
   ]
  },
  {
   "cell_type": "code",
   "execution_count": null,
   "metadata": {},
   "outputs": [],
   "source": []
  }
 ],
 "metadata": {
  "kernelspec": {
   "display_name": "Python 3",
   "language": "python",
   "name": "python3"
  },
  "language_info": {
   "codemirror_mode": {
    "name": "ipython",
    "version": 3
   },
   "file_extension": ".py",
   "mimetype": "text/x-python",
   "name": "python",
   "nbconvert_exporter": "python",
   "pygments_lexer": "ipython3",
   "version": "3.11.5"
  }
 },
 "nbformat": 4,
 "nbformat_minor": 2
}
