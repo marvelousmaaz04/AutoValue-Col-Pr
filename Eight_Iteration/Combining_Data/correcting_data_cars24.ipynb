{
 "cells": [
  {
   "cell_type": "code",
   "execution_count": 2,
   "metadata": {},
   "outputs": [],
   "source": [
    "import pandas as pd"
   ]
  },
  {
   "cell_type": "code",
   "execution_count": 2,
   "metadata": {},
   "outputs": [
    {
     "data": {
      "text/html": [
       "<div>\n",
       "<style scoped>\n",
       "    .dataframe tbody tr th:only-of-type {\n",
       "        vertical-align: middle;\n",
       "    }\n",
       "\n",
       "    .dataframe tbody tr th {\n",
       "        vertical-align: top;\n",
       "    }\n",
       "\n",
       "    .dataframe thead th {\n",
       "        text-align: right;\n",
       "    }\n",
       "</style>\n",
       "<table border=\"1\" class=\"dataframe\">\n",
       "  <thead>\n",
       "    <tr style=\"text-align: right;\">\n",
       "      <th></th>\n",
       "      <th>CarName</th>\n",
       "      <th>Price</th>\n",
       "      <th>Year</th>\n",
       "      <th>KilometersDriven</th>\n",
       "      <th>Fuel Type</th>\n",
       "      <th>Location</th>\n",
       "    </tr>\n",
       "  </thead>\n",
       "  <tbody>\n",
       "    <tr>\n",
       "      <th>0</th>\n",
       "      <td>Maruti Ertiga</td>\n",
       "      <td>6,51,000</td>\n",
       "      <td>2016</td>\n",
       "      <td>98,246 KM</td>\n",
       "      <td>CNG</td>\n",
       "      <td>Rupa Renaissance, Navi Mumbai</td>\n",
       "    </tr>\n",
       "    <tr>\n",
       "      <th>1</th>\n",
       "      <td>Hyundai i10</td>\n",
       "      <td>1,86,000</td>\n",
       "      <td>2010</td>\n",
       "      <td>92,421 KM</td>\n",
       "      <td>PETROL</td>\n",
       "      <td>Goregaon, Mumbai</td>\n",
       "    </tr>\n",
       "    <tr>\n",
       "      <th>2</th>\n",
       "      <td>Toyota Corolla Altis</td>\n",
       "      <td>4,90,000</td>\n",
       "      <td>2012</td>\n",
       "      <td>60,438 KM</td>\n",
       "      <td>PETROL</td>\n",
       "      <td>Mulund</td>\n",
       "    </tr>\n",
       "    <tr>\n",
       "      <th>3</th>\n",
       "      <td>Honda City</td>\n",
       "      <td>4,88,000</td>\n",
       "      <td>2014</td>\n",
       "      <td>72,419 KM</td>\n",
       "      <td>PETROL</td>\n",
       "      <td>Goregaon, Mumbai</td>\n",
       "    </tr>\n",
       "    <tr>\n",
       "      <th>4</th>\n",
       "      <td>Maruti Alto 800</td>\n",
       "      <td>1,83,000</td>\n",
       "      <td>2012</td>\n",
       "      <td>55,876 KM</td>\n",
       "      <td>PETROL</td>\n",
       "      <td>Goregaon, Mumbai</td>\n",
       "    </tr>\n",
       "  </tbody>\n",
       "</table>\n",
       "</div>"
      ],
      "text/plain": [
       "                CarName     Price  Year KilometersDriven Fuel Type  \\\n",
       "0         Maruti Ertiga  6,51,000  2016        98,246 KM       CNG   \n",
       "1           Hyundai i10  1,86,000  2010        92,421 KM    PETROL   \n",
       "2  Toyota Corolla Altis  4,90,000  2012        60,438 KM    PETROL   \n",
       "3            Honda City  4,88,000  2014        72,419 KM    PETROL   \n",
       "4       Maruti Alto 800  1,83,000  2012        55,876 KM    PETROL   \n",
       "\n",
       "                        Location  \n",
       "0  Rupa Renaissance, Navi Mumbai  \n",
       "1               Goregaon, Mumbai  \n",
       "2                         Mulund  \n",
       "3               Goregaon, Mumbai  \n",
       "4               Goregaon, Mumbai  "
      ]
     },
     "execution_count": 2,
     "metadata": {},
     "output_type": "execute_result"
    }
   ],
   "source": [
    "data = pd.read_csv(\"Cars24/cars24_mumbai.csv\")\n",
    "data.head(5)"
   ]
  },
  {
   "cell_type": "code",
   "execution_count": 3,
   "metadata": {},
   "outputs": [],
   "source": [
    "data_without_mumbai = data[data['Location'].apply(lambda x: True if \"Mumbai\" not in x.split(\" \") else False)]"
   ]
  },
  {
   "cell_type": "code",
   "execution_count": 4,
   "metadata": {},
   "outputs": [
    {
     "data": {
      "text/plain": [
       "Location\n",
       "Mulund    214\n",
       "Name: count, dtype: int64"
      ]
     },
     "execution_count": 4,
     "metadata": {},
     "output_type": "execute_result"
    }
   ],
   "source": [
    "data_without_mumbai['Location'].value_counts()"
   ]
  },
  {
   "cell_type": "code",
   "execution_count": 5,
   "metadata": {},
   "outputs": [],
   "source": [
    "data_with_mumbai = data[data['Location'].apply(lambda x: True if \"Mumbai\" in x.split(\" \") else False)]"
   ]
  },
  {
   "cell_type": "code",
   "execution_count": 6,
   "metadata": {},
   "outputs": [
    {
     "data": {
      "text/plain": [
       "331"
      ]
     },
     "execution_count": 6,
     "metadata": {},
     "output_type": "execute_result"
    }
   ],
   "source": [
    "data_with_mumbai['Location'].value_counts().sum()"
   ]
  },
  {
   "cell_type": "code",
   "execution_count": 7,
   "metadata": {},
   "outputs": [
    {
     "data": {
      "text/plain": [
       "Location\n",
       "Goregaon, Mumbai                 191\n",
       "Rupa Renaissance, Navi Mumbai    140\n",
       "Name: count, dtype: int64"
      ]
     },
     "execution_count": 7,
     "metadata": {},
     "output_type": "execute_result"
    }
   ],
   "source": [
    "data_with_mumbai['Location'].value_counts()"
   ]
  },
  {
   "cell_type": "code",
   "execution_count": 8,
   "metadata": {},
   "outputs": [
    {
     "data": {
      "text/plain": [
       "(545, 6)"
      ]
     },
     "execution_count": 8,
     "metadata": {},
     "output_type": "execute_result"
    }
   ],
   "source": [
    "data.shape"
   ]
  },
  {
   "cell_type": "code",
   "execution_count": 9,
   "metadata": {},
   "outputs": [],
   "source": [
    "data['Location'] = data['Location'].apply(lambda x: x+\", Mumbai\" if \"Mumbai\" not in x.split(\" \") else x)"
   ]
  },
  {
   "cell_type": "code",
   "execution_count": 10,
   "metadata": {},
   "outputs": [
    {
     "data": {
      "text/plain": [
       "Series([], Name: count, dtype: int64)"
      ]
     },
     "execution_count": 10,
     "metadata": {},
     "output_type": "execute_result"
    }
   ],
   "source": [
    "data_without_mumbai = data[data['Location'].apply(lambda x: True if \"Mumbai\" not in x.split(\" \") else False)]\n",
    "data_without_mumbai['Location'].value_counts()"
   ]
  },
  {
   "cell_type": "code",
   "execution_count": 12,
   "metadata": {},
   "outputs": [
    {
     "data": {
      "text/plain": [
       "Location\n",
       "Mulund, Mumbai                   214\n",
       "Goregaon, Mumbai                 191\n",
       "Rupa Renaissance, Navi Mumbai    140\n",
       "Name: count, dtype: int64"
      ]
     },
     "execution_count": 12,
     "metadata": {},
     "output_type": "execute_result"
    }
   ],
   "source": [
    "data_with_mumbai = data[data['Location'].apply(lambda x: True if \"Mumbai\" in x.split(\" \") else False)]\n",
    "data_with_mumbai['Location'].value_counts()"
   ]
  },
  {
   "cell_type": "code",
   "execution_count": 13,
   "metadata": {},
   "outputs": [
    {
     "data": {
      "text/plain": [
       "545"
      ]
     },
     "execution_count": 13,
     "metadata": {},
     "output_type": "execute_result"
    }
   ],
   "source": [
    "data_with_mumbai['Location'].value_counts().sum()"
   ]
  },
  {
   "cell_type": "code",
   "execution_count": 14,
   "metadata": {},
   "outputs": [],
   "source": [
    "data.to_csv(\"Cars24/corrected_data/cars24_mumbai_corrected.csv\")"
   ]
  },
  {
   "cell_type": "code",
   "execution_count": 3,
   "metadata": {},
   "outputs": [
    {
     "data": {
      "text/html": [
       "<div>\n",
       "<style scoped>\n",
       "    .dataframe tbody tr th:only-of-type {\n",
       "        vertical-align: middle;\n",
       "    }\n",
       "\n",
       "    .dataframe tbody tr th {\n",
       "        vertical-align: top;\n",
       "    }\n",
       "\n",
       "    .dataframe thead th {\n",
       "        text-align: right;\n",
       "    }\n",
       "</style>\n",
       "<table border=\"1\" class=\"dataframe\">\n",
       "  <thead>\n",
       "    <tr style=\"text-align: right;\">\n",
       "      <th></th>\n",
       "      <th>CarName</th>\n",
       "      <th>Price</th>\n",
       "      <th>Year</th>\n",
       "      <th>KilometersDriven</th>\n",
       "      <th>Fuel Type</th>\n",
       "      <th>Location</th>\n",
       "    </tr>\n",
       "  </thead>\n",
       "  <tbody>\n",
       "    <tr>\n",
       "      <th>0</th>\n",
       "      <td>Toyota Innova Crysta</td>\n",
       "      <td>20,93,000</td>\n",
       "      <td>2022</td>\n",
       "      <td>13,719 KM</td>\n",
       "      <td>PETROL</td>\n",
       "      <td>Garuda Mall, Magrath Road, Bengaluru</td>\n",
       "    </tr>\n",
       "    <tr>\n",
       "      <th>1</th>\n",
       "      <td>Maruti Ertiga</td>\n",
       "      <td>5,89,000</td>\n",
       "      <td>2012</td>\n",
       "      <td>1,38,142 KM</td>\n",
       "      <td>DIESEL</td>\n",
       "      <td>Bellahalli, Bengaluru</td>\n",
       "    </tr>\n",
       "    <tr>\n",
       "      <th>2</th>\n",
       "      <td>Ford Ecosport</td>\n",
       "      <td>6,07,000</td>\n",
       "      <td>2015</td>\n",
       "      <td>1,30,981 KM</td>\n",
       "      <td>DIESEL</td>\n",
       "      <td>Bellahalli, Bengaluru</td>\n",
       "    </tr>\n",
       "    <tr>\n",
       "      <th>3</th>\n",
       "      <td>Volkswagen Polo</td>\n",
       "      <td>8,34,000</td>\n",
       "      <td>2019</td>\n",
       "      <td>32,585 KM</td>\n",
       "      <td>PETROL</td>\n",
       "      <td>Bellahalli, Bengaluru</td>\n",
       "    </tr>\n",
       "    <tr>\n",
       "      <th>4</th>\n",
       "      <td>Hyundai Creta</td>\n",
       "      <td>8,64,000</td>\n",
       "      <td>2016</td>\n",
       "      <td>81,853 KM</td>\n",
       "      <td>PETROL</td>\n",
       "      <td>Bellahalli, Bengaluru</td>\n",
       "    </tr>\n",
       "  </tbody>\n",
       "</table>\n",
       "</div>"
      ],
      "text/plain": [
       "                CarName      Price  Year KilometersDriven Fuel Type  \\\n",
       "0  Toyota Innova Crysta  20,93,000  2022        13,719 KM    PETROL   \n",
       "1         Maruti Ertiga   5,89,000  2012      1,38,142 KM    DIESEL   \n",
       "2         Ford Ecosport   6,07,000  2015      1,30,981 KM    DIESEL   \n",
       "3       Volkswagen Polo   8,34,000  2019        32,585 KM    PETROL   \n",
       "4         Hyundai Creta   8,64,000  2016        81,853 KM    PETROL   \n",
       "\n",
       "                               Location  \n",
       "0  Garuda Mall, Magrath Road, Bengaluru  \n",
       "1                 Bellahalli, Bengaluru  \n",
       "2                 Bellahalli, Bengaluru  \n",
       "3                 Bellahalli, Bengaluru  \n",
       "4                 Bellahalli, Bengaluru  "
      ]
     },
     "execution_count": 3,
     "metadata": {},
     "output_type": "execute_result"
    }
   ],
   "source": [
    "data = pd.read_csv(\"Cars24/cars24_bangalore.csv\")\n",
    "data.head(5)"
   ]
  },
  {
   "cell_type": "code",
   "execution_count": 9,
   "metadata": {},
   "outputs": [
    {
     "data": {
      "text/plain": [
       "Location\n",
       "Whitefield Main Road, Bhoruka Tech Park, Benga...    91\n",
       "Sonnappanahalli                                      51\n",
       "Name: count, dtype: int64"
      ]
     },
     "execution_count": 9,
     "metadata": {},
     "output_type": "execute_result"
    }
   ],
   "source": [
    "data_without_bangalore = data[data['Location'].apply(lambda x: True if \"Bengaluru\" not in x.split(\" \") else False)]\n",
    "data_without_bangalore['Location'].value_counts()"
   ]
  },
  {
   "cell_type": "code",
   "execution_count": 6,
   "metadata": {},
   "outputs": [
    {
     "data": {
      "text/plain": [
       "142"
      ]
     },
     "execution_count": 6,
     "metadata": {},
     "output_type": "execute_result"
    }
   ],
   "source": [
    "data_without_bangalore['Location'].value_counts().sum()"
   ]
  },
  {
   "cell_type": "code",
   "execution_count": 5,
   "metadata": {},
   "outputs": [
    {
     "data": {
      "text/plain": [
       "Location\n",
       "Bellahalli, Bengaluru                   198\n",
       "Hosur Road, Singasandra, Bengaluru       67\n",
       "Horamavu Agara Road, Bengaluru           55\n",
       "Garuda Mall, Magrath Road, Bengaluru     50\n",
       "GT World Mall, Bengaluru                 35\n",
       "Name: count, dtype: int64"
      ]
     },
     "execution_count": 5,
     "metadata": {},
     "output_type": "execute_result"
    }
   ],
   "source": [
    "data_with_bangalore = data[data['Location'].apply(lambda x: True if \"Bengaluru\" in x.split(\" \") else False)]\n",
    "data_with_bangalore['Location'].value_counts()"
   ]
  },
  {
   "cell_type": "code",
   "execution_count": 7,
   "metadata": {},
   "outputs": [
    {
     "data": {
      "text/plain": [
       "405"
      ]
     },
     "execution_count": 7,
     "metadata": {},
     "output_type": "execute_result"
    }
   ],
   "source": [
    "data_with_bangalore['Location'].value_counts().sum()"
   ]
  },
  {
   "cell_type": "code",
   "execution_count": 11,
   "metadata": {},
   "outputs": [],
   "source": [
    "data['Location'] = data['Location'].apply(lambda x: x.replace(\"Benga...\",\"Bengaluru\") if \"Benga...\" in x.split(\" \") else x)"
   ]
  },
  {
   "cell_type": "code",
   "execution_count": 12,
   "metadata": {},
   "outputs": [
    {
     "data": {
      "text/plain": [
       "Location\n",
       "Sonnappanahalli    51\n",
       "Name: count, dtype: int64"
      ]
     },
     "execution_count": 12,
     "metadata": {},
     "output_type": "execute_result"
    }
   ],
   "source": [
    "data_without_bangalore = data[data['Location'].apply(lambda x: True if \"Bengaluru\" not in x.split(\" \") else False)]\n",
    "data_without_bangalore['Location'].value_counts()"
   ]
  },
  {
   "cell_type": "code",
   "execution_count": 13,
   "metadata": {},
   "outputs": [],
   "source": [
    "data['Location'] = data['Location'].apply(lambda x: x + \", Bengaluru\" if \"Bengaluru\" not in x.split(\" \") else x)"
   ]
  },
  {
   "cell_type": "code",
   "execution_count": 14,
   "metadata": {},
   "outputs": [
    {
     "data": {
      "text/plain": [
       "Series([], Name: count, dtype: int64)"
      ]
     },
     "execution_count": 14,
     "metadata": {},
     "output_type": "execute_result"
    }
   ],
   "source": [
    "data_without_bangalore = data[data['Location'].apply(lambda x: True if \"Bengaluru\" not in x.split(\" \") else False)]\n",
    "data_without_bangalore['Location'].value_counts()"
   ]
  },
  {
   "cell_type": "code",
   "execution_count": 15,
   "metadata": {},
   "outputs": [
    {
     "data": {
      "text/plain": [
       "Location\n",
       "Bellahalli, Bengaluru                                 198\n",
       "Whitefield Main Road, Bhoruka Tech Park, Bengaluru     91\n",
       "Hosur Road, Singasandra, Bengaluru                     67\n",
       "Horamavu Agara Road, Bengaluru                         55\n",
       "Sonnappanahalli, Bengaluru                             51\n",
       "Garuda Mall, Magrath Road, Bengaluru                   50\n",
       "GT World Mall, Bengaluru                               35\n",
       "Name: count, dtype: int64"
      ]
     },
     "execution_count": 15,
     "metadata": {},
     "output_type": "execute_result"
    }
   ],
   "source": [
    "data_with_bangalore = data[data['Location'].apply(lambda x: True if \"Bengaluru\" in x.split(\" \") else False)]\n",
    "data_with_bangalore['Location'].value_counts()"
   ]
  },
  {
   "cell_type": "code",
   "execution_count": 16,
   "metadata": {},
   "outputs": [
    {
     "data": {
      "text/plain": [
       "547"
      ]
     },
     "execution_count": 16,
     "metadata": {},
     "output_type": "execute_result"
    }
   ],
   "source": [
    "data_with_bangalore['Location'].value_counts().sum()"
   ]
  },
  {
   "cell_type": "code",
   "execution_count": 17,
   "metadata": {},
   "outputs": [],
   "source": [
    "data.to_csv(\"Cars24/corrected_data/cars24_bangalore_corrected.csv\")"
   ]
  },
  {
   "cell_type": "code",
   "execution_count": 26,
   "metadata": {},
   "outputs": [
    {
     "data": {
      "text/html": [
       "<div>\n",
       "<style scoped>\n",
       "    .dataframe tbody tr th:only-of-type {\n",
       "        vertical-align: middle;\n",
       "    }\n",
       "\n",
       "    .dataframe tbody tr th {\n",
       "        vertical-align: top;\n",
       "    }\n",
       "\n",
       "    .dataframe thead th {\n",
       "        text-align: right;\n",
       "    }\n",
       "</style>\n",
       "<table border=\"1\" class=\"dataframe\">\n",
       "  <thead>\n",
       "    <tr style=\"text-align: right;\">\n",
       "      <th></th>\n",
       "      <th>CarName</th>\n",
       "      <th>Price</th>\n",
       "      <th>Year</th>\n",
       "      <th>KilometersDriven</th>\n",
       "      <th>Fuel Type</th>\n",
       "      <th>Location</th>\n",
       "    </tr>\n",
       "  </thead>\n",
       "  <tbody>\n",
       "    <tr>\n",
       "      <th>0</th>\n",
       "      <td>Maruti Alto</td>\n",
       "      <td>1,16,000</td>\n",
       "      <td>2010</td>\n",
       "      <td>50,962 KM</td>\n",
       "      <td>PETROL</td>\n",
       "      <td>GIP Mall, Noida</td>\n",
       "    </tr>\n",
       "    <tr>\n",
       "      <th>1</th>\n",
       "      <td>Tata NEXON</td>\n",
       "      <td>7,40,000</td>\n",
       "      <td>2020</td>\n",
       "      <td>61,698 KM</td>\n",
       "      <td>PETROL</td>\n",
       "      <td>Metro Walk, Rohini, New Delhi</td>\n",
       "    </tr>\n",
       "    <tr>\n",
       "      <th>2</th>\n",
       "      <td>Hyundai GRAND I10 NIOS</td>\n",
       "      <td>5,99,000</td>\n",
       "      <td>2019</td>\n",
       "      <td>76,421 KM</td>\n",
       "      <td>PETROL</td>\n",
       "      <td>GIP Mall, Noida</td>\n",
       "    </tr>\n",
       "    <tr>\n",
       "      <th>3</th>\n",
       "      <td>Maruti S PRESSO</td>\n",
       "      <td>3,84,000</td>\n",
       "      <td>2019</td>\n",
       "      <td>20,792 KM</td>\n",
       "      <td>PETROL</td>\n",
       "      <td>Parsvnath City Mall, Faridabad</td>\n",
       "    </tr>\n",
       "    <tr>\n",
       "      <th>4</th>\n",
       "      <td>Toyota Corolla Altis</td>\n",
       "      <td>3,56,000</td>\n",
       "      <td>2011</td>\n",
       "      <td>67,066 KM</td>\n",
       "      <td>PETROL</td>\n",
       "      <td>Metro Walk, Rohini, New Delhi</td>\n",
       "    </tr>\n",
       "  </tbody>\n",
       "</table>\n",
       "</div>"
      ],
      "text/plain": [
       "                  CarName     Price  Year KilometersDriven Fuel Type  \\\n",
       "0             Maruti Alto  1,16,000  2010        50,962 KM    PETROL   \n",
       "1              Tata NEXON  7,40,000  2020        61,698 KM    PETROL   \n",
       "2  Hyundai GRAND I10 NIOS  5,99,000  2019        76,421 KM    PETROL   \n",
       "3         Maruti S PRESSO  3,84,000  2019        20,792 KM    PETROL   \n",
       "4    Toyota Corolla Altis  3,56,000  2011        67,066 KM    PETROL   \n",
       "\n",
       "                         Location  \n",
       "0                 GIP Mall, Noida  \n",
       "1   Metro Walk, Rohini, New Delhi  \n",
       "2                 GIP Mall, Noida  \n",
       "3  Parsvnath City Mall, Faridabad  \n",
       "4   Metro Walk, Rohini, New Delhi  "
      ]
     },
     "execution_count": 26,
     "metadata": {},
     "output_type": "execute_result"
    }
   ],
   "source": [
    "data = pd.read_csv(\"Cars24/cars24_newdelhi.csv\")\n",
    "data.head(5)"
   ]
  },
  {
   "cell_type": "code",
   "execution_count": 27,
   "metadata": {},
   "outputs": [
    {
     "data": {
      "text/plain": [
       "Location\n",
       "Sector-18, Noida                              94\n",
       "Metro Walk, Rohini, New Delhi                 79\n",
       "Parsvnath City Mall, Faridabad                67\n",
       "Spaze Platinum, Sohna Road, Gurugram          64\n",
       "M3M Urbana, Golf Course Ext., Gurugram        56\n",
       "Hindon, Sewa Nagar, Ghaziabad                 55\n",
       "GIP Mall, Noida                               44\n",
       "KW Delhi 6, Raj Nagar Extension, Ghaziabad    38\n",
       "Vasant Kunj, New Delhi                        34\n",
       "Chhatarpur, Delhi                             26\n",
       "Name: count, dtype: int64"
      ]
     },
     "execution_count": 27,
     "metadata": {},
     "output_type": "execute_result"
    }
   ],
   "source": [
    "data['Location'].value_counts()"
   ]
  },
  {
   "cell_type": "code",
   "execution_count": 28,
   "metadata": {},
   "outputs": [
    {
     "data": {
      "text/plain": [
       "Location\n",
       "Metro Walk, Rohini, New Delhi                 79\n",
       "KW Delhi 6, Raj Nagar Extension, Ghaziabad    38\n",
       "Vasant Kunj, New Delhi                        34\n",
       "Chhatarpur, Delhi                             26\n",
       "Name: count, dtype: int64"
      ]
     },
     "execution_count": 28,
     "metadata": {},
     "output_type": "execute_result"
    }
   ],
   "source": [
    "data_with_delhi = data[data['Location'].apply(lambda x: True if \"Delhi\" in x.split(\" \") else False)]\n",
    "data_with_delhi['Location'].value_counts()"
   ]
  },
  {
   "cell_type": "code",
   "execution_count": 29,
   "metadata": {},
   "outputs": [
    {
     "data": {
      "text/plain": [
       "177"
      ]
     },
     "execution_count": 29,
     "metadata": {},
     "output_type": "execute_result"
    }
   ],
   "source": [
    "data_with_delhi['Location'].value_counts().sum()"
   ]
  },
  {
   "cell_type": "code",
   "execution_count": 30,
   "metadata": {},
   "outputs": [
    {
     "data": {
      "text/plain": [
       "Location\n",
       "Sector-18, Noida                          94\n",
       "Parsvnath City Mall, Faridabad            67\n",
       "Spaze Platinum, Sohna Road, Gurugram      64\n",
       "M3M Urbana, Golf Course Ext., Gurugram    56\n",
       "Hindon, Sewa Nagar, Ghaziabad             55\n",
       "GIP Mall, Noida                           44\n",
       "Name: count, dtype: int64"
      ]
     },
     "execution_count": 30,
     "metadata": {},
     "output_type": "execute_result"
    }
   ],
   "source": [
    "data_without_delhi = data[data['Location'].apply(lambda x: True if \"Delhi\" not in x.split(\" \") else False)]\n",
    "data_without_delhi['Location'].value_counts()"
   ]
  },
  {
   "cell_type": "code",
   "execution_count": 31,
   "metadata": {},
   "outputs": [
    {
     "data": {
      "text/plain": [
       "380"
      ]
     },
     "execution_count": 31,
     "metadata": {},
     "output_type": "execute_result"
    }
   ],
   "source": [
    "data_without_delhi['Location'].value_counts().sum()"
   ]
  },
  {
   "cell_type": "code",
   "execution_count": 32,
   "metadata": {},
   "outputs": [],
   "source": [
    "data['Location'] = data['Location'].apply(lambda x: x + \", Delhi\" if \"Delhi\" not in x.split(\" \") else x)"
   ]
  },
  {
   "cell_type": "code",
   "execution_count": 33,
   "metadata": {},
   "outputs": [
    {
     "data": {
      "text/plain": [
       "Series([], Name: count, dtype: int64)"
      ]
     },
     "execution_count": 33,
     "metadata": {},
     "output_type": "execute_result"
    }
   ],
   "source": [
    "data_without_delhi = data[data['Location'].apply(lambda x: True if \"Delhi\" not in x.split(\" \") else False)]\n",
    "data_without_delhi['Location'].value_counts()"
   ]
  },
  {
   "cell_type": "code",
   "execution_count": 34,
   "metadata": {},
   "outputs": [
    {
     "data": {
      "text/plain": [
       "Location\n",
       "Sector-18, Noida, Delhi                          94\n",
       "Metro Walk, Rohini, New Delhi                    79\n",
       "Parsvnath City Mall, Faridabad, Delhi            67\n",
       "Spaze Platinum, Sohna Road, Gurugram, Delhi      64\n",
       "M3M Urbana, Golf Course Ext., Gurugram, Delhi    56\n",
       "Hindon, Sewa Nagar, Ghaziabad, Delhi             55\n",
       "GIP Mall, Noida, Delhi                           44\n",
       "KW Delhi 6, Raj Nagar Extension, Ghaziabad       38\n",
       "Vasant Kunj, New Delhi                           34\n",
       "Chhatarpur, Delhi                                26\n",
       "Name: count, dtype: int64"
      ]
     },
     "execution_count": 34,
     "metadata": {},
     "output_type": "execute_result"
    }
   ],
   "source": [
    "data_with_delhi = data[data['Location'].apply(lambda x: True if \"Delhi\" in x.split(\" \") else False)]\n",
    "data_with_delhi['Location'].value_counts()"
   ]
  },
  {
   "cell_type": "code",
   "execution_count": 35,
   "metadata": {},
   "outputs": [
    {
     "data": {
      "text/plain": [
       "557"
      ]
     },
     "execution_count": 35,
     "metadata": {},
     "output_type": "execute_result"
    }
   ],
   "source": [
    "data_with_delhi['Location'].value_counts().sum()"
   ]
  },
  {
   "cell_type": "code",
   "execution_count": 36,
   "metadata": {},
   "outputs": [],
   "source": [
    "data.to_csv(\"Cars24/corrected_data/cars24_newdelhi_corrected.csv\")"
   ]
  },
  {
   "cell_type": "code",
   "execution_count": null,
   "metadata": {},
   "outputs": [],
   "source": []
  }
 ],
 "metadata": {
  "kernelspec": {
   "display_name": "Python 3",
   "language": "python",
   "name": "python3"
  },
  "language_info": {
   "codemirror_mode": {
    "name": "ipython",
    "version": 3
   },
   "file_extension": ".py",
   "mimetype": "text/x-python",
   "name": "python",
   "nbconvert_exporter": "python",
   "pygments_lexer": "ipython3",
   "version": "3.11.5"
  }
 },
 "nbformat": 4,
 "nbformat_minor": 2
}
